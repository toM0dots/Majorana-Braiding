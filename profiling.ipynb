{
 "cells": [
  {
   "cell_type": "code",
   "execution_count": null,
   "metadata": {},
   "outputs": [
    {
     "data": {
      "text/plain": [
       "<pstats.Stats at 0x112e2f8c0>"
      ]
     },
     "execution_count": 1,
     "metadata": {},
     "output_type": "execute_result"
    }
   ],
   "source": [
    "import pstats\n",
    "stats = pstats.Stats('profile.out')\n",
    "stats.strip_dirs()  "
   ]
  },
  {
   "cell_type": "code",
   "execution_count": 2,
   "metadata": {},
   "outputs": [
    {
     "name": "stdout",
     "output_type": "stream",
     "text": [
      "Thu Jul 17 17:00:09 2025    profile.out\n",
      "\n",
      "         25302182 function calls (25266219 primitive calls) in 239.943 seconds\n",
      "\n",
      "   Ordered by: cumulative time\n",
      "   List reduced from 3865 to 20 due to restriction <20>\n",
      "\n",
      "   ncalls  tottime  percall  cumtime  percall filename:lineno(function)\n",
      "    158/7    0.284    0.002  238.523   34.075 text.py:65(_get_text_metrics_with_cache)\n",
      "     68/3    0.005    0.000  238.488   79.496 text.py:358(_get_layout)\n",
      "     11/4    0.001    0.000  236.995   59.249 text.py:73(_get_text_metrics_with_cache_impl)\n",
      "        5    0.089    0.018  235.823   47.165 test_kk.py:137(evolution_annihilate)\n",
      "    25000   79.226    0.003  235.720    0.009 test_kk.py:46(hopping_annihilate)\n",
      "  1436401   88.401    0.000   88.401    0.000 {method 'tolist' of 'numpy.ndarray' objects}\n",
      "  1435362   60.348    0.000   60.348    0.000 {method 'count' of 'list' objects}\n",
      "  2824124    2.813    0.000    7.405    0.000 random.py:345(choice)\n",
      "  2824124    2.322    0.000    3.692    0.000 random.py:245(_randbelow_with_getrandbits)\n",
      "    372/5    0.004    0.000    1.672    0.334 <frozen importlib._bootstrap>:1349(_find_and_load)\n",
      "    368/5    0.002    0.000    1.672    0.334 <frozen importlib._bootstrap>:1304(_find_and_load_unlocked)\n",
      "    353/6    0.002    0.000    1.670    0.278 <frozen importlib._bootstrap>:911(_load_unlocked)\n",
      "    301/6    0.002    0.000    1.669    0.278 <frozen importlib._bootstrap_external>:1020(exec_module)\n",
      "   870/11    0.001    0.000    1.664    0.151 <frozen importlib._bootstrap>:480(_call_with_frames_removed)\n",
      "       35    0.003    0.000    1.626    0.046 __init__.py:1(<module>)\n",
      "   421/12    0.001    0.000    1.572    0.131 {built-in method builtins.__import__}\n",
      "   418/84    0.001    0.000    1.471    0.018 <frozen importlib._bootstrap>:1390(_handle_fromlist)\n",
      "      943    0.006    0.000    0.974    0.001 backend_bases.py:1187(_process)\n",
      "1693/1680    0.018    0.000    0.970    0.001 cbook.py:348(process)\n",
      "5873853/5872697    0.938    0.000    0.938    0.000 {built-in method builtins.len}\n",
      "\n",
      "\n"
     ]
    },
    {
     "data": {
      "text/plain": [
       "<pstats.Stats at 0x112e2f8c0>"
      ]
     },
     "execution_count": 2,
     "metadata": {},
     "output_type": "execute_result"
    }
   ],
   "source": [
    "stats.sort_stats('cumulative').print_stats(20)"
   ]
  },
  {
   "cell_type": "code",
   "execution_count": null,
   "metadata": {},
   "outputs": [],
   "source": []
  }
 ],
 "metadata": {
  "kernelspec": {
   "display_name": "anaconda3",
   "language": "python",
   "name": "python3"
  },
  "language_info": {
   "codemirror_mode": {
    "name": "ipython",
    "version": 3
   },
   "file_extension": ".py",
   "mimetype": "text/x-python",
   "name": "python",
   "nbconvert_exporter": "python",
   "pygments_lexer": "ipython3",
   "version": "3.13.2"
  },
  "orig_nbformat": 4
 },
 "nbformat": 4,
 "nbformat_minor": 2
}
